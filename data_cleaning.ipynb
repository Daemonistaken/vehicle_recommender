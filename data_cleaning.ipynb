{
 "cells": [
  {
   "cell_type": "markdown",
   "metadata": {},
   "source": [
    "#-------------------------------------------------------------------------------------------------\n",
    "### NOTE: All code and documentation are presented in English due to a mandatory language requirement.\n",
    "### NOTE: Todo el código y la documentación se presentan en inglés debido a una obligación de uso del idioma.\n",
    "#-------------------------------------------------------------------------------------------------"
   ]
  },
  {
   "cell_type": "markdown",
   "metadata": {},
   "source": [
    "### Data Exploration and Cleaning\n",
    "\n",
    "This dataset contains information about Indian cars, including technical specifications, usage, and pricing.\n",
    "\n",
    "We will perform the following steps to prepare the data for analysis and modeling:\n",
    "1. Initial Data Inspection\n",
    "\n",
    "   - Review column names\n",
    "\n",
    "   - Preview the first few rows\n",
    "\n",
    "   - Examine data types\n",
    "\n",
    "   - Perform an initial exploratory analysis\n",
    "\n",
    "   - Understand the distribution of key variables\n",
    "\n",
    "2. Handling Missing Values\n",
    "\n",
    "   - Identify columns with null values and assess their impact\n",
    "\n",
    "   - Evaluate the feasibility of imputing or removing missing data\n",
    "\n",
    "   - Where applicable, merge values from New_Price into Price for enhanced completeness\n",
    "\n",
    "   - Clean and transform improperly formatted or mixed-type columns\n",
    "\n",
    "3. Modify data types \n",
    "    - Transform data types \n",
    "    - Rename columns \n"
   ]
  },
  {
   "cell_type": "code",
   "execution_count": null,
   "metadata": {},
   "outputs": [],
   "source": [
    "# Libraries to explore and visualize the data\n",
    "import pandas as pd \n",
    "import seaborn as sns\n",
    "import matplotlib.pyplot as plt\n",
    "import numpy as np\n",
    "import datetime\n",
    "from logger_setup import get_file_logger\n",
    "logger = get_file_logger(\"data_cleaning_\")\n",
    "\n",
    "dataset_save_path = \"datasets/vehicles/clean_car_df.csv\"\n",
    "\n",
    "# Load the data\n",
    "logger.debug(\"Load dataset from datasets/vehicles/used_cars_data.csv\")\n",
    "cars_df_raw = pd.read_csv(\"datasets/vehicles/used_cars_data.csv\")\n",
    "logger.debug(f\"Initial shape: {cars_df_raw.shape}\")"
   ]
  },
  {
   "cell_type": "markdown",
   "metadata": {},
   "source": [
    "### Column names\n",
    "```\n",
    "S.No.                 | Index of the dataset\n",
    "Name                  | Name of the vehicle\n",
    "Location              | Location of the vehicle\n",
    "Year                  | Manufacturing year\n",
    "Kilometers_driven     | Mileage driven \n",
    "Fuel_Type             | Type of fuel\n",
    "Transmission          | Type of transmission\n",
    "Owner_Type            | Number of owner\n",
    "Mileage               | Mileage in kmpl km/kg\n",
    "Engine                | Type of engine in CC\n",
    "Power                 | Brake HorsePower in bhp\n",
    "Seats                 | Quantity of seats\n",
    "New_Price             | New price in lakh / cr\n",
    "Price                 | Actual price\n",
    "```"
   ]
  },
  {
   "cell_type": "code",
   "execution_count": null,
   "metadata": {},
   "outputs": [],
   "source": [
    "cars_df_raw.head()\n",
    "logger.debug(\"Show first rows from the dataset\")"
   ]
  },
  {
   "cell_type": "markdown",
   "metadata": {},
   "source": [
    "#### Schema information \n",
    "\n",
    "The dataset consists of 7,253 entries. Most features are stored as `object` data types, which usually represent categorical or text-based information. \n",
    "\n",
    "However, some of these columns actually contain numeric values combined with units (e.g., `Mileage`: \"26.6 km/kg\", `Engine`: \"998 CC\", `Power`: \"58.16 bhp\", `New_Price`: \"8.61 Lakh\"). This formatting makes them unsuitable for direct numerical analysis and requires cleaning and conversion.\n",
    "\n",
    "Additionally, several columns have missing values, which will need to be handled as part of the data preprocessing workflow."
   ]
  },
  {
   "cell_type": "code",
   "execution_count": null,
   "metadata": {},
   "outputs": [],
   "source": [
    "# Schema of the data\n",
    "Object_columns = cars_df_raw.select_dtypes(include=['object']).count().count()\n",
    "Numeric_columns = cars_df_raw.select_dtypes(include=['number']).count().count()\n",
    "logger.debug(\"Object columns:\", Object_columns)\n",
    "logger.debug(\"Numeric columns (int64 + float64):\", Numeric_columns)\n",
    "cars_df_raw.info()\n",
    "logger.debug(\"Show dataset schema\")\n"
   ]
  },
  {
   "cell_type": "markdown",
   "metadata": {},
   "source": [
    "#### Statistics summary of the numeric columns:\n",
    "\n",
    "- Seats:<br> \n",
    "    - The minimum value is `0`, which likely indicates missing or null data incorrectly represented as zero.\n",
    "- Kilometers_Driven:<br>\n",
    "    -   There is a noticeable jump between the 75th percentile and the maximum value, suggesting the presence of potential outliers.\n",
    "- Price:<br>\n",
    "    -   Similarly, a significant increase between the 75th percentile and the maximum value may indicate outliers in pricing data."
   ]
  },
  {
   "cell_type": "code",
   "execution_count": null,
   "metadata": {},
   "outputs": [],
   "source": [
    "# Detailed data\n",
    "cars_df_raw.describe()\n",
    "logger.debug(\"Show dataset's descriptive statistics\")"
   ]
  },
  {
   "cell_type": "markdown",
   "metadata": {},
   "source": [
    "### Object-Type Column Analysis and Distribution Summary\n",
    "\n",
    "##### Categorical Columns identified: \n",
    "The following columns were identified as categorical:\n",
    "\n",
    "- Location\n",
    "- Fuel_Type\n",
    "- Transmission\n",
    "- Owner_Type\n",
    "\n",
    "Nominal (No inherent order):\n",
    "- Location (eg., Mumbai)\n",
    "- Fuel Type (eg., CNG, LPG, Petrol, Diesel, Electric)\n",
    "- Transmission (eg., Manual, Automatic)\n",
    "\n",
    "Ordinal (Logical order present):\n",
    "- Owner Type (e.g., First, Second, Third...)\n",
    "\n",
    "##### Misclassified Object Columns:\n",
    "\n",
    "The following `object-type` columns are misformatted and contain values in the form \"[numeric value] [unit]\", leading to inconsistent data typing:\n",
    "\n",
    "- Mileage\n",
    "\n",
    "- Engine\n",
    "\n",
    "- Power\n",
    "\n",
    "- New_Price\n",
    "\n",
    "These should be split into distinct numerical and unit components to restore data type integrity.\n",
    "\n",
    "Inferred Data types:\n",
    "\n",
    "- Discrete:\n",
    "\n",
    "    - Engine (CC values)\n",
    "\n",
    "- Continuous:\n",
    "\n",
    "    - Mileage (e.g., kmpl or km/kg)\n",
    "\n",
    "    - Power (e.g., bhp)\n",
    "\n",
    "    - New_Price (e.g., in INR lakhs and crores)\n",
    "\n",
    "### Distribution Insights\n",
    "\n",
    "- **Location**: Reasonably balanced across cities.\n",
    "- **Fuel_Type**: Heavily skewed toward **Diesel** and **Petrol**.\n",
    "- **Transmission**: **Manual** dominates, roughly in a 2:1 ratio over **Automatic**.\n",
    "- **Owner_Type**: Majority are **first-owner** vehicles.\n",
    "- **Mileage**, **Engine**, and **Power**: Show **right-skewed** distributions, indicating a higher frequency of lower values.\n",
    "- **New_Price**: Appears more evenly distributed, although with a low data volume.\n"
   ]
  },
  {
   "cell_type": "code",
   "execution_count": null,
   "metadata": {},
   "outputs": [],
   "source": [
    "logger.debug(\"Plotting object data\")\n",
    "cat_columns = cars_df_raw.select_dtypes(include=['object']).drop('Name', axis=1)\n",
    "#cat_columns = cars_df_raw[['Location',\"Fuel_Type\",\"Transmission\",\"Owner_Type\",\"Seats\",\"Engine\",\"Power\",\"New_Price\"]]\n",
    "custom_labels = {\n",
    "    'Location': {\n",
    "        'title': 'Location',\n",
    "        'xlabel': 'Location of the vehicle'\n",
    "    },\n",
    "    'Fuel_Type': {\n",
    "        'title': 'Type of fuel',\n",
    "        'xlabel': 'Fuel used'\n",
    "    },\n",
    "    'Transmission': {\n",
    "        'title': 'Transmission',\n",
    "        'xlabel': ''\n",
    "    },\n",
    "    'Owner_Type': {\n",
    "        'title': 'Owner type',\n",
    "        'xlabel': 'x hand vehicle'\n",
    "    },\n",
    "    'Mileage': {\n",
    "        'title': 'Fuel Consumption',\n",
    "        'xlabel': 'Consumption in km/kg y kmpl'\n",
    "    },\n",
    "    'Engine': {\n",
    "        'title': 'Engine Capacity',\n",
    "        'xlabel': ''\n",
    "    },\n",
    "    'Power': {\n",
    "        'title': 'Engine Power',\n",
    "        'xlabel': 'Power in BHP'\n",
    "    },\n",
    "    'New_Price': {\n",
    "        'title': 'New Prices',\n",
    "        'xlabel': 'Prices in lakh and crore'\n",
    "    }\n",
    "}\n",
    "\n",
    "# Create subplots\n",
    "fig, axes = plt.subplots(3, 3, figsize=(14, 10))\n",
    "axes = axes.flatten()  # Flatten to make indexing easier\n",
    "\n",
    "# Plot each categorical column\n",
    "for i, col in enumerate(cat_columns.columns):\n",
    "    sns.countplot(data=cat_columns, x=col, ax=axes[i],palette='viridis',hue=col, legend=False)\n",
    "    axes[i].tick_params(axis='x',rotation=45)    \n",
    "    axes[i].set_title(col)\n",
    "\n",
    "    if col in custom_labels:\n",
    "        axes[i].set_title(custom_labels[col]['title'])\n",
    "        axes[i].set_xlabel(custom_labels[col]['xlabel'])\n",
    "    else:\n",
    "        axes[i].set_title(col)\n",
    "        axes[i].set_xlabel(col)\n",
    "\n",
    "# Hide any unused subplots\n",
    "for j in range(i+1, len(axes)):\n",
    "    axes[j].set_visible(False)\n",
    "\n",
    "plt.tight_layout()\n",
    "plt.show()"
   ]
  },
  {
   "cell_type": "markdown",
   "metadata": {},
   "source": [
    "#### Number Column Distribution Analysis\n",
    "\n",
    "After plotting the numerical features, we classify them as follows:\n",
    "\n",
    "**Categorical (Ordinal):**\n",
    "- Seats \n",
    "\n",
    "**Numerical (Discrete):**\n",
    "- Year\n",
    "\n",
    "**Numerical (Continuous):**\n",
    "- Kilometers_Driven\n",
    "- Price (INR Lakh currency)\n",
    "\n",
    "**Other Observations:**\n",
    "- S.No. (Identifier column)\n",
    "\n",
    "#### Distribution\n",
    "\n",
    "- **Year**: The distribution is left-skewed, indicating that most vehicles are relatively recent models. This skew is expected and does not present an issue.\n",
    "- **Seats**: Most entries reflect either 5 or 7 seats, which aligns with typical configurations in the Indian market. \n",
    "- **Kilometers Driven**: The distribution is highly right-skewed. With a 75th percentile at `~73,000` km and a maximum around `650,000` km, extreme values suggest the presence of outliers.\n",
    "- **Price**: Also right-skewed. The 75th percentile is `₹9.95 Lakh`, while the maximum reaches `₹160 Lakh`, further indicating potential outliers.\n",
    "- **S.No.**: This is simply an indexing column and holds no analytical value.\n"
   ]
  },
  {
   "cell_type": "code",
   "execution_count": null,
   "metadata": {},
   "outputs": [],
   "source": [
    "logger.debug(\"Plotting numeric data\")\n",
    "custom_labels = {\n",
    "    'S.No.': {\n",
    "        'title': 'Vehicle ID',\n",
    "        'xlabel': ''\n",
    "    },\n",
    "    'Year': {\n",
    "        'title': 'Manufacturing Year',\n",
    "        'xlabel': ''\n",
    "    },\n",
    "    'Kilometers_Driven': {\n",
    "        'title': 'Kilometers Driven',\n",
    "        'xlabel': ''\n",
    "    },\n",
    "    'Seats': {\n",
    "        'title': 'Seat quantity',\n",
    "        'xlabel': ''\n",
    "    },\n",
    "    'Price': {\n",
    "        'title': 'Price in lakhs',\n",
    "        'xlabel': ''\n",
    "    }\n",
    "}\n",
    "# Plot histograms for number columns\n",
    "#cars_df_raw.select_dtypes(include='number').hist(bins=30 , figsize=(12, 8), layout=(3, 3), edgecolor='black', color='aquamarine')\n",
    "number_columns = cars_df_raw.select_dtypes(include='number')\n",
    "\n",
    "fig, axes = plt.subplots(2, 3, figsize=(10, 6))\n",
    "axes = axes.flatten()  # Flatten to make indexing easier\n",
    "\n",
    "for i, col in enumerate(number_columns.columns):\n",
    "    sns.histplot(data=number_columns, x=col, ax=axes[i])\n",
    "    axes[i].tick_params(axis='x',rotation=45)    \n",
    "    axes[i].set_title(col)\n",
    "    \n",
    "    if col in custom_labels:\n",
    "        axes[i].set_title(custom_labels[col]['title'])\n",
    "        axes[i].set_xlabel(custom_labels[col]['xlabel'])\n",
    "    else:\n",
    "        axes[i].set_title(col)\n",
    "        axes[i].set_xlabel(col)\n",
    "\n",
    "# Hide any unused subplots\n",
    "for j in range(i+1, len(axes)):\n",
    "    axes[j].set_visible(False)\n",
    "\n",
    "plt.tight_layout()    \n",
    "plt.show()\n"
   ]
  },
  {
   "cell_type": "markdown",
   "metadata": {},
   "source": [
    "Drop ID column because it has no value towards the exploration and later on for machine learning use."
   ]
  },
  {
   "cell_type": "code",
   "execution_count": null,
   "metadata": {},
   "outputs": [],
   "source": [
    "cars_df = cars_df_raw.copy()\n",
    "cars_df.drop('S.No.', axis=1, inplace=True)\n",
    "logger.debug(\"Drop S.No. Column\")"
   ]
  },
  {
   "cell_type": "markdown",
   "metadata": {},
   "source": [
    "# Check Null Values\n",
    "\n",
    "We are going to use regex to convert any \"null\" string value. "
   ]
  },
  {
   "cell_type": "code",
   "execution_count": null,
   "metadata": {},
   "outputs": [],
   "source": [
    "sns.heatmap(cars_df_raw.isnull(), cmap='viridis')\n",
    "logger.debug(cars_df_raw.isnull().sum())\n",
    "logger.debug(f\"Check dataset null values {cars_df_raw.isnull().sum().sum()}\")"
   ]
  },
  {
   "cell_type": "code",
   "execution_count": null,
   "metadata": {},
   "outputs": [],
   "source": [
    "# Replace null values with NaN\n",
    "# regex=r\"(?i)^null.*\"\n",
    "# (?i) inline flag that treats uppercase and lowercase letters as equivalent. \n",
    "# ^ Asserts the start of the string\n",
    "# null matches the literal sequence of characters 'null'\n",
    "# .* matches any character (except for newline) zero or more times and the asterisk(*) means \"zero or more times\"\n",
    "logger.debug(f\"Using regex to find hidden null values to convert to actual nulls\")\n",
    "cars_df.replace(regex=r\"(?i).*null.*\", value=np.nan, inplace=True)\n",
    "logger.debug(f\"Raw Dataset:\\n{cars_df_raw.drop(columns=\"S.No.\").isnull().sum()}\\n\\nUsing regex:\\n{cars_df.isnull().sum()}\")\n",
    "\n",
    "fig, axes = plt.subplots(1, 2, figsize=(14, 5))\n",
    "\n",
    "# Heatmap for raw dataframe\n",
    "sns.heatmap(cars_df_raw.isnull(), cmap='viridis', ax=axes[0],)\n",
    "axes[0].set_title(\"Raw Dataset\")\n",
    "\n",
    "# Heatmap for cleaned dataframe\n",
    "sns.heatmap(cars_df.isnull(), cmap='viridis', ax=axes[1],)\n",
    "axes[1].set_title(\"Using Regex\")\n",
    "\n",
    "plt.tight_layout()\n",
    "plt.show()\n"
   ]
  },
  {
   "cell_type": "code",
   "execution_count": null,
   "metadata": {},
   "outputs": [],
   "source": [
    "# Check for duplicated rows in new_cars_df\n",
    "duplicates = cars_df.duplicated()\n",
    "print(\"Number of duplicate rows:\", duplicates.sum())\n",
    "\n",
    "# Remove duplicated rows\n",
    "if duplicates.sum() > 0:   \n",
    "    cars_df.drop_duplicates(inplace=True)\n",
    "    print(\"New shape after duplicates removal:\", cars_df.shape)\n",
    "\n",
    "logger.debug(f\"Deleting {duplicates.sum()} duplicated rows\")"
   ]
  },
  {
   "cell_type": "markdown",
   "metadata": {},
   "source": [
    "## Prices\n",
    "\n",
    "```\n",
    "New_Price            6247\n",
    "Price                1234\n",
    "```\n",
    "We can see that most of the missing data comes from the New_Price column since not all the vehicles have gotten a new price.\n",
    "Eitherway since its supposed to be the new price we can extract those new prices, add/overwrite the data on the price column and get rid of the new_price column."
   ]
  },
  {
   "cell_type": "markdown",
   "metadata": {},
   "source": [
    "#### New_Price/Price | Cleaning and currency conversion "
   ]
  },
  {
   "cell_type": "markdown",
   "metadata": {},
   "source": [
    "Check unique suffixes on the New_Price column"
   ]
  },
  {
   "cell_type": "code",
   "execution_count": null,
   "metadata": {},
   "outputs": [],
   "source": [
    "# Check what UNIQUE suffixes are used in a specific column and count the quantity of each\n",
    "# Returns a dictionary with the UNIQUE suffixes and quantity {'CC':233,'bhp': 123}\n",
    "\n",
    "def count_suffix(dataframe, column):\n",
    "    values = dataframe[column]\n",
    "    unique_suffixes_count = {}\n",
    "    for value in values:\n",
    "        if isinstance(value, str):\n",
    "            parts = value.split()\n",
    "            if len(parts) > 1:\n",
    "                suffix = parts[1]\n",
    "                unique_suffixes_count[suffix] = unique_suffixes_count.get(suffix, 0) + 1\n",
    "            else:\n",
    "                unique_suffixes_count[value] = unique_suffixes_count.get(value, 0) + 1                \n",
    "    return unique_suffixes_count\n",
    "\n",
    "def get_unique_suffixes(dataframe, column):\n",
    "    unique_values = dataframe[column].unique()  # Get only unique values\n",
    "    suffixes_set = set()\n",
    "    for value in unique_values:\n",
    "        if isinstance(value, str):\n",
    "            parts = value.split()\n",
    "            if len(parts) > 1:\n",
    "                suffixes_set.add(parts[1])  # Add the suffix to the set\n",
    "            else:\n",
    "                suffixes_set.add(value) # Add the value itself if no suffix is found\n",
    "    return suffixes_set"
   ]
  },
  {
   "cell_type": "markdown",
   "metadata": {},
   "source": [
    "Quantity of Lakh and Cr from the New_Price column"
   ]
  },
  {
   "cell_type": "code",
   "execution_count": null,
   "metadata": {},
   "outputs": [],
   "source": [
    "currency_dictionary = count_suffix(cars_df, 'New_Price')\n",
    "for key, value in currency_dictionary.items():\n",
    "    print(f\"{key}: {value} values\")\n",
    "logger.debug(\"Checking suffixes on New_Price column\")"
   ]
  },
  {
   "cell_type": "markdown",
   "metadata": {},
   "source": [
    "- Remove the suffixes and transform CR into LAKHs. \n",
    "- Transforming LAKHs in to INR and convert INR to EURO into a new column Price_EUR"
   ]
  },
  {
   "cell_type": "code",
   "execution_count": null,
   "metadata": {},
   "outputs": [],
   "source": [
    "# 1 Lakh == 10^5 (100,000 INR)\n",
    "# 1 Cr == 10^7 (10,000,000 INR)\n",
    "# 1 EURO == 97.83 INR\n",
    "EURO_TO_INR = 97.83\n",
    "# Price conversion from INR Lakh to euros (LAKH*100000)/96.87 = euro \n",
    "#New_Price column contains LAKH and CR Currency\n",
    "suffixes_dict = dict.fromkeys(get_unique_suffixes(cars_df, 'New_Price'),0)\n",
    "# Transform 'New_Price' values and update the 'Price' column with the new prices\n",
    "for index, value in cars_df['New_Price'].items():\n",
    "    if isinstance(value, str) and value.endswith(tuple(suffixes_dict.keys())):\n",
    "        price,suffix = value.split()\n",
    "        price = float(price)        \n",
    "        if suffix == 'Cr': #Cr | Convert Cr to Lakh\n",
    "            price_in_lakh = price * 100\n",
    "        else:\n",
    "            # Price is in Lakh by default\n",
    "            price_in_lakh = price           \n",
    "        # Update the 'Price' column with the converted value\n",
    "        cars_df.at[index, 'Price'] = price_in_lakh\n",
    "\n",
    "# Transform 'Price' values to euros in a new column 'price_euro' and round them up to 2 decimal places\n",
    "# Currency conversion from INR to EURO\n",
    "cars_df['price_euro'] = ((cars_df['Price']*100000)/EURO_TO_INR).round(2)\n",
    "logger.debug(\"Moving prices from 'New_Price' to 'Price' column and creating a new price_euro column with prices converted from lakh to euro\" )"
   ]
  },
  {
   "cell_type": "code",
   "execution_count": null,
   "metadata": {},
   "outputs": [],
   "source": [
    "print(cars_df.isnull().sum())\n",
    "logger.debug(f\"Null value count {cars_df.isnull().sum().sum()-cars_df[\"price_euro\"].isnull().sum()}\")"
   ]
  },
  {
   "cell_type": "code",
   "execution_count": null,
   "metadata": {},
   "outputs": [],
   "source": [
    "logger.debug(\"Plot differences between raw and cleaned dataset + remove 'New_Price' column\" )\n",
    "#Drop the 'New_Price' column as it is no longer needed\n",
    "df_after_regex = cars_df_raw.copy()\n",
    "df_after_regex.replace(regex=r\"(?i).*null.*\", value=np.nan, inplace=True)\n",
    "\n",
    "\n",
    "fig, axes = plt.subplots(2, 2, figsize=(10, 8))\n",
    "axes = axes.flatten()\n",
    "cols = [\"Price\",\"price_euro\"]\n",
    "subset = cars_df[cols]\n",
    "corr_matrix = subset.corr()\n",
    "sns.heatmap(df_after_regex.isnull(), cmap='viridis',ax=axes[0])\n",
    "sns.heatmap(cars_df.isnull(), cmap='viridis',ax=axes[1])\n",
    "sns.heatmap(corr_matrix, annot=True, cmap=\"coolwarm\", fmt=\".2f\", ax=axes[2])\n",
    "sns.histplot(cars_df['Price'], ax=axes[3], color='blue', kde=True, bins=30)\n",
    "axes[0].set_title(\"Original dataset with regex\")\n",
    "axes[1].set_title(\"After cleanup\")\n",
    "axes[2].set_title(\"Correlation Matrix\")\n",
    "axes[3].set_title(\"Price Distribution\")\n",
    "plt.tight_layout()\n",
    "plt.show()\n",
    "\n",
    "logger.debug(cars_df.isnull().sum())\n",
    "new_cars_df = cars_df.drop(['New_Price'],axis=1)\n"
   ]
  },
  {
   "cell_type": "markdown",
   "metadata": {},
   "source": [
    "## Price Summary \n",
    "We have removed the suffixes from new_price, transformed the different indian numeric (Lakh|Cr) systems into LAKHs for price column. \n",
    "\n",
    "Dropped the new_price column and converted the prices from the price column from INR to EURO in a new column price_euro."
   ]
  },
  {
   "cell_type": "markdown",
   "metadata": {},
   "source": [
    "### Deleting Null values\n",
    "After treating the columns with most null values we can get rid of the rest since don't have enough information. "
   ]
  },
  {
   "cell_type": "code",
   "execution_count": null,
   "metadata": {},
   "outputs": [],
   "source": [
    "logger.debug(f\"Shape before dropping all null values {new_cars_df.shape}\")\n",
    "new_cars_df_copy = new_cars_df.copy()\n",
    "# Drop all missing values \n",
    "new_cars_df.dropna(inplace=True)\n",
    "logger.debug(new_cars_df.isnull().sum())\n",
    "logger.debug(f\"Shape after dropping all null values {new_cars_df.shape}. Total values removed: {new_cars_df_copy.shape[0]-new_cars_df.shape[0]}\")"
   ]
  },
  {
   "cell_type": "markdown",
   "metadata": {},
   "source": [
    "## Mileage\n",
    "We can see there are two types of mileage being inputed **km/kg** and **kmpl**. There are also few types of fuel which after doing some research, and finding out that CNG and LPG are a really small amount compared to Diesel an petrol, that means kmpl is the most used unit of measurement. We'll convert the km/kg to kmpl and we'll convert all the row into float by removing the suffixes\n",
    "\n",
    "#### (CNG) Compressed Natural Gas \n",
    "##### According to [Bigas website](https://www.bigas.it/en/faq-en/292-faq-fuel-distance) 1kg of CNG corresponds aproximetly 1.7 liters, so dividing by 1.7 or multiplying by 0.588 = (1/1.7) we can obtain the kmpl\n",
    "#### (LPG) Liquified Petroleum Gas \n",
    "##### According to [convert-kg-to-liters-lpg](https://conversion.website.yandexcloud.net/convert-kg-to-liters-lpg.html) website, 1kg occupies roughly 1.8 liters, so dividing 1.8 or multiplying by aproximately 0.55 = (1 / 1.8) we can obtain the kmpl\n"
   ]
  },
  {
   "cell_type": "code",
   "execution_count": null,
   "metadata": {},
   "outputs": [],
   "source": [
    "# Check suffixes for each type of fuel\n",
    "fuel_suffixes = {}\n",
    "for fuel_type in new_cars_df['Fuel_Type'].unique():\n",
    "    if isinstance(fuel_type, str):  # Ensure the fuel type is a string\n",
    "        # Filter rows for the current fuel type\n",
    "        filtered_df = new_cars_df[new_cars_df['Fuel_Type'] == fuel_type]\n",
    "        # Get unique suffixes from the 'Mileage' column\n",
    "        suffixes = get_unique_suffixes(filtered_df, 'Mileage')\n",
    "        fuel_suffixes[fuel_type] = suffixes\n",
    "fuel_types = count_suffix(new_cars_df, 'Fuel_Type')\n",
    "logger.debug(f'Quantity of fuel rows per type:{fuel_types}\\n')\n",
    "# Print the suffixes for each fuel type\n",
    "logger.debug('Mileage suffixes for each fuel type:')\n",
    "fuels = {}\n",
    "for fuel, suffixes in fuel_suffixes.items():\n",
    "    fuels[fuel] = suffixes\n",
    "    print(f\"Fuel Type: {fuel} | Suffixes: {suffixes}\")\n",
    "logger.debug(f\"Checking fuel types per row: {fuel_types}. Suffixes per fuel: {fuels}\")"
   ]
  },
  {
   "cell_type": "code",
   "execution_count": null,
   "metadata": {},
   "outputs": [],
   "source": [
    "def convert_to_kmpl(value,mileage):\n",
    "    CNG_TO_KMPL = 0.588\n",
    "    LPG_TO_KMPL = 0.55\n",
    "    float_mileage = float(mileage)\n",
    "    if value == 'CNG':\n",
    "        conversion_result = float_mileage * CNG_TO_KMPL\n",
    "    if value == 'LPG':\n",
    "        conversion_result = float_mileage * LPG_TO_KMPL\n",
    "    return round(conversion_result,2)\n",
    "\n",
    "\n",
    "fuel_to_convert = ('CNG','LPG')\n",
    "for index, value in new_cars_df['Fuel_Type'].items():\n",
    "    if isinstance(value,str):\n",
    "        mileage_value = new_cars_df.at[index,'Mileage'] \n",
    "        mileage = mileage_value.split()[0]\n",
    "        if value in fuel_to_convert:            \n",
    "            if isinstance(mileage_value,str) and mileage_value.endswith('km/kg'):                \n",
    "                new_cars_df.at[index,'Mileage'] = convert_to_kmpl(value,mileage)\n",
    "        else:\n",
    "            if isinstance(mileage_value,str) and mileage_value.endswith('kmpl'):\n",
    "                new_cars_df.at[index,'Mileage'] = mileage_value.split()[0]\n",
    "\n",
    "# Convert 'Mileage' column to float column\n",
    "new_cars_df['Mileage'] = new_cars_df['Mileage'].astype(float)\n",
    "new_cars_df['Mileage'].describe()\n"
   ]
  },
  {
   "cell_type": "markdown",
   "metadata": {},
   "source": [
    "After cleaning the mileage column we can see that there is at least one row with a 0 value. Since we cannot get the actual value we'll get rid those."
   ]
  },
  {
   "cell_type": "code",
   "execution_count": null,
   "metadata": {},
   "outputs": [],
   "source": [
    "shape_before = new_cars_df.shape\n",
    "logger.debug(f'Dataset shape before removing null value kmpl: {new_cars_df.shape}')\n",
    "new_cars_df = new_cars_df[new_cars_df['Mileage'] > 0].reset_index(drop=True)\n",
    "logger.debug(f'Dataset shape after removing null value kmpl: {new_cars_df.shape}')\n",
    "logger.debug(f\"Removed rows from Mileage column for 0 value: {shape_before[0] - new_cars_df.shape[0]}\")\n",
    "\n",
    "plt.figure(figsize=(10, 6))\n",
    "sns.histplot(new_cars_df['Mileage'], color='blue', kde=True, bins=30)\n",
    "plt.title('Distribucion del consumo de combustible')\n",
    "plt.show()\n",
    "new_cars_df['Mileage'].describe()"
   ]
  },
  {
   "cell_type": "markdown",
   "metadata": {},
   "source": [
    "### Power / Engine\n",
    "\n",
    "We can see on that both only have one suffix so we are goin to get rid of it and change the data type of each column.\n",
    "\n",
    "- Engine to int\n",
    "- Power to float"
   ]
  },
  {
   "cell_type": "code",
   "execution_count": null,
   "metadata": {},
   "outputs": [],
   "source": [
    "logger.debug(count_suffix(new_cars_df, 'Power'))\n",
    "logger.debug(count_suffix(new_cars_df, 'Engine'))"
   ]
  },
  {
   "cell_type": "code",
   "execution_count": null,
   "metadata": {},
   "outputs": [],
   "source": [
    "def remove_suffix(value):\n",
    "    if isinstance(value, str):\n",
    "        parts = value.split()\n",
    "        if len(parts) > 1:  # Check if there is a suffix to remove\n",
    "            return parts[0]  # Return the numeric part\n",
    "        return value  # Return the value as is if no suffix is found\n",
    "    return value\n",
    "\n",
    "# Remove suffixes from 'Engine' and 'Power' columns\n",
    "new_cars_df['Engine'] = new_cars_df['Engine'].map(remove_suffix).fillna(0).astype(int)\n",
    "new_cars_df['Power'] = new_cars_df['Power'].map(remove_suffix).fillna(0).astype(float)\n",
    "\n",
    "figure, axes = plt.subplots(1, 2, figsize=(14, 5))\n",
    "sns.histplot(new_cars_df['Power'], ax=axes[0], color='red', kde=True, bins=30)\n",
    "sns.histplot(new_cars_df['Engine'], ax=axes[1], color='green', kde=True, bins=30)\n",
    "axes[0].set_title(\"Power Distribution\")\n",
    "axes[1].set_title(\"Engine Distribution\")\n",
    "plt.tight_layout()\n",
    "plt.show()\n",
    "new_cars_df[['Power','Engine']].describe()"
   ]
  },
  {
   "cell_type": "markdown",
   "metadata": {},
   "source": [
    "### Seats\n",
    "We'll just change the  from float to int"
   ]
  },
  {
   "cell_type": "code",
   "execution_count": null,
   "metadata": {},
   "outputs": [],
   "source": [
    "new_cars_df['Seats'].unique()\n",
    "new_cars_df['Seats'] = new_cars_df['Seats'].astype(int)\n",
    "\n",
    "plt.Figure(figsize=(10, 6))\n",
    "sns.countplot(data=new_cars_df, x='Seats', palette='viridis', hue='Seats', legend=False)\n",
    "plt.title('Distribucion de asientos')\n",
    "plt.xlabel('Cantidad de asientos por vehiculo')\n",
    "plt.show()"
   ]
  },
  {
   "cell_type": "markdown",
   "metadata": {},
   "source": [
    "### Year\n",
    "We'll modify it to instead of showing the year, it shows the age of the car"
   ]
  },
  {
   "cell_type": "code",
   "execution_count": null,
   "metadata": {},
   "outputs": [],
   "source": [
    "current_year = datetime.datetime.today().year\n",
    "manufacturing_year = new_cars_df['Year'].copy()  # Store original manufacturing years\n",
    "# Calculate age without lambda - direct vectorized operation\n",
    "new_cars_df['Year'] = current_year - new_cars_df['Year']"
   ]
  },
  {
   "cell_type": "code",
   "execution_count": null,
   "metadata": {},
   "outputs": [],
   "source": [
    "\n",
    "# Create the plots\n",
    "figure, axes = plt.subplots(1, 2, figsize=(10, 6))\n",
    "\n",
    "# Plot manufacturing year distribution\n",
    "sns.histplot(manufacturing_year, color='purple', kde=True, bins=30, ax=axes[0])\n",
    "axes[0].set_title('Manufacturing year distribution')\n",
    "axes[0].set_xlabel('Manufacturing year')\n",
    "\n",
    "# Plot vehicle age distribution\n",
    "sns.histplot(new_cars_df['Year'], color='purple', kde=True, bins=30, ax=axes[1])\n",
    "axes[1].set_title('Age distribution')\n",
    "axes[1].set_xlabel('Car age (in years)')\n",
    "\n",
    "plt.tight_layout()\n",
    "plt.show()"
   ]
  },
  {
   "cell_type": "markdown",
   "metadata": {},
   "source": [
    "### Owner number\n",
    "We'll transform it from string to int and since we really don't have information about that fourth & above we'll keep it at 4 \n"
   ]
  },
  {
   "cell_type": "code",
   "execution_count": null,
   "metadata": {},
   "outputs": [],
   "source": [
    "logger.debug(f\"Mapping Owner_Type values\")\n",
    "new_cars_df['Owner_Type'] = new_cars_df['Owner_Type'].map({'First':1,'Second':2,'Third':3,'Fourth & Above':4}).fillna(0).astype(int)\n",
    "new_cars_df['Owner_Type'].describe()\n",
    "\n",
    "plt.figure(figsize=(10, 6))\n",
    "sns.countplot(data=new_cars_df, x='Owner_Type', palette='viridis', hue='Owner_Type', legend=False)\n",
    "plt.title('Distribucion de cantidad de propietarios')\n",
    "plt.xlabel('Numero de propietarios')\n",
    "plt.show()"
   ]
  },
  {
   "cell_type": "markdown",
   "metadata": {},
   "source": [
    "## Rename the columns\n"
   ]
  },
  {
   "cell_type": "code",
   "execution_count": null,
   "metadata": {},
   "outputs": [],
   "source": [
    "logger.debug(f\"Renaming columns\")\n",
    "new_cars_df.rename(columns={'S.No.':'id','Name':'name','Location':'location','Year':'car_age','Kilometers_Driven':'kilometers_driven','Fuel_Type':'fuel_type','Transmission':'transmission','Owner_Type':'owner_number','Mileage':'mileage_kmpl','Engine':'engine_cc','Power':'power_bhp','Seats':'seats','Price':'price_lakh'},inplace=True)"
   ]
  },
  {
   "cell_type": "markdown",
   "metadata": {},
   "source": [
    "# Dataset After cleaning"
   ]
  },
  {
   "cell_type": "code",
   "execution_count": null,
   "metadata": {},
   "outputs": [],
   "source": [
    "new_cars_df.info()"
   ]
  },
  {
   "cell_type": "code",
   "execution_count": null,
   "metadata": {},
   "outputs": [],
   "source": [
    "new_cars_df.describe()"
   ]
  },
  {
   "cell_type": "code",
   "execution_count": null,
   "metadata": {},
   "outputs": [],
   "source": [
    "new_cars_df.to_csv(dataset_save_path, index=False)\n",
    "logger.debug(f\"Saving dataset to {dataset_save_path}\")\n",
    "logger.debug(f\"Finalizing data exploration.\")"
   ]
  },
  {
   "cell_type": "code",
   "execution_count": null,
   "metadata": {},
   "outputs": [],
   "source": [
    "cat_columns = new_cars_df.select_dtypes(include=['object']).drop('name', axis=1)\n",
    "\n",
    "# Create subplots\n",
    "fig, axes = plt.subplots(3, 3, figsize=(14, 10))\n",
    "axes = axes.flatten()  # Flatten to make indexing easier\n",
    "\n",
    "# Plot each categorical column\n",
    "for i, col in enumerate(cat_columns.columns):\n",
    "    sns.countplot(data=cat_columns, x=col, ax=axes[i],palette='viridis',hue=col, legend=False)\n",
    "    axes[i].tick_params(axis='x',rotation=45)    \n",
    "    axes[i].set_title(col)\n",
    "\n",
    "# Hide any unused subplots\n",
    "for j in range(i+1, len(axes)):\n",
    "    axes[j].set_visible(False)\n",
    "\n",
    "plt.tight_layout()\n",
    "plt.show()"
   ]
  },
  {
   "cell_type": "code",
   "execution_count": null,
   "metadata": {},
   "outputs": [],
   "source": [
    "custom_labels = {\n",
    "    'car_age': {\n",
    "        'title': 'Edad del vehiculo',\n",
    "        'xlabel': ''\n",
    "    },\n",
    "    'kilometers_driven': {\n",
    "        'title': 'Kilometros Recorridos',\n",
    "        'xlabel': ''\n",
    "    },\n",
    "    'owner_number': {\n",
    "        'title': 'Tipo de vehiculo',\n",
    "        'xlabel': 'Vehiculo de x mano'\n",
    "    },\n",
    "    'mileage_kmpl': {\n",
    "        'title': 'Consumo de combustible',\n",
    "        'xlabel': 'Consumo en kmpl'\n",
    "    },\n",
    "    'engine_cc': {\n",
    "        'title': 'Capacidad del motor',\n",
    "        'xlabel': 'Cilindrada del motor'\n",
    "    },\n",
    "    'power_bhp': {\n",
    "        'title': 'Potencia del motor',\n",
    "        'xlabel': 'Potencia en bhp'\n",
    "    },\n",
    "    'seats': {\n",
    "        'title': 'Cantidad de asientos',\n",
    "        'xlabel': ''\n",
    "    },\n",
    "    'price_lakh': {\n",
    "        'title': 'Precio en lakhs',\n",
    "        'xlabel': ''\n",
    "    },\n",
    "    'price_euro': {\n",
    "        'title': 'Precio en euros',\n",
    "        'xlabel': ''\n",
    "    }\n",
    "}\n",
    "# Plot histograms for number columns\n",
    "#cars_df_raw.select_dtypes(include='number').hist(bins=30 , figsize=(12, 8), layout=(3, 3), edgecolor='black', color='aquamarine')\n",
    "number_columns = new_cars_df.select_dtypes(include='number')\n",
    "\n",
    "fig, axes = plt.subplots(3, 3, figsize=(10, 6))\n",
    "axes = axes.flatten()  # Flatten to make indexing easier\n",
    "\n",
    "for i, col in enumerate(number_columns.columns):\n",
    "    sns.histplot(data=number_columns, x=col, ax=axes[i])\n",
    "    axes[i].tick_params(axis='x',rotation=45)    \n",
    "    axes[i].set_title(col)\n",
    "    \n",
    "    if col in custom_labels:\n",
    "        axes[i].set_title(custom_labels[col]['title'])\n",
    "        axes[i].set_xlabel(custom_labels[col]['xlabel'])\n",
    "    else:\n",
    "        axes[i].set_title(col)\n",
    "        axes[i].set_xlabel(col)\n",
    "\n",
    "# Hide any unused subplots\n",
    "for j in range(i+1, len(axes)):\n",
    "    axes[j].set_visible(False)\n",
    "\n",
    "plt.tight_layout()    \n",
    "plt.show()"
   ]
  }
 ],
 "metadata": {
  "kernelspec": {
   "display_name": "venv",
   "language": "python",
   "name": "python3"
  },
  "language_info": {
   "codemirror_mode": {
    "name": "ipython",
    "version": 3
   },
   "file_extension": ".py",
   "mimetype": "text/x-python",
   "name": "python",
   "nbconvert_exporter": "python",
   "pygments_lexer": "ipython3",
   "version": "3.13.2"
  }
 },
 "nbformat": 4,
 "nbformat_minor": 2
}
